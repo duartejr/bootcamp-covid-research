{
 "cells": [
  {
   "cell_type": "code",
   "execution_count": 7,
   "metadata": {},
   "outputs": [],
   "source": [
    "import pandas as pd\n",
    "import os\n",
    "from datetime import datetime"
   ]
  },
  {
   "cell_type": "code",
   "execution_count": 5,
   "metadata": {},
   "outputs": [],
   "source": [
    "dir_data = '../../datalake/gold/covid_data/forecast/arima'\n",
    "countries_abrv = ['AR', 'CH', 'EC', 'ES', 'MX']\n",
    "countries = ['Argentina', 'Chile', 'Equador', 'Espanha', 'México']"
   ]
  },
  {
   "cell_type": "code",
   "execution_count": 16,
   "metadata": {},
   "outputs": [
    {
     "data": {
      "text/html": [
       "<div>\n",
       "<style scoped>\n",
       "    .dataframe tbody tr th:only-of-type {\n",
       "        vertical-align: middle;\n",
       "    }\n",
       "\n",
       "    .dataframe tbody tr th {\n",
       "        vertical-align: top;\n",
       "    }\n",
       "\n",
       "    .dataframe thead th {\n",
       "        text-align: right;\n",
       "    }\n",
       "</style>\n",
       "<table border=\"1\" class=\"dataframe\">\n",
       "  <thead>\n",
       "    <tr style=\"text-align: right;\">\n",
       "      <th></th>\n",
       "      <th>country</th>\n",
       "      <th>forecast_date</th>\n",
       "      <th>forecasted_date</th>\n",
       "      <th>forecast</th>\n",
       "    </tr>\n",
       "  </thead>\n",
       "  <tbody>\n",
       "    <tr>\n",
       "      <th>938</th>\n",
       "      <td>Argentina</td>\n",
       "      <td>2020-06-04</td>\n",
       "      <td>2020-06-05</td>\n",
       "      <td>824.775462</td>\n",
       "    </tr>\n",
       "    <tr>\n",
       "      <th>939</th>\n",
       "      <td>Argentina</td>\n",
       "      <td>2020-06-04</td>\n",
       "      <td>2020-06-06</td>\n",
       "      <td>937.279315</td>\n",
       "    </tr>\n",
       "    <tr>\n",
       "      <th>940</th>\n",
       "      <td>Argentina</td>\n",
       "      <td>2020-06-04</td>\n",
       "      <td>2020-06-07</td>\n",
       "      <td>923.566260</td>\n",
       "    </tr>\n",
       "    <tr>\n",
       "      <th>941</th>\n",
       "      <td>Argentina</td>\n",
       "      <td>2020-06-04</td>\n",
       "      <td>2020-06-08</td>\n",
       "      <td>921.712269</td>\n",
       "    </tr>\n",
       "    <tr>\n",
       "      <th>942</th>\n",
       "      <td>Argentina</td>\n",
       "      <td>2020-06-04</td>\n",
       "      <td>2020-06-09</td>\n",
       "      <td>913.315190</td>\n",
       "    </tr>\n",
       "  </tbody>\n",
       "</table>\n",
       "</div>"
      ],
      "text/plain": [
       "       country forecast_date forecasted_date    forecast\n",
       "938  Argentina    2020-06-04      2020-06-05  824.775462\n",
       "939  Argentina    2020-06-04      2020-06-06  937.279315\n",
       "940  Argentina    2020-06-04      2020-06-07  923.566260\n",
       "941  Argentina    2020-06-04      2020-06-08  921.712269\n",
       "942  Argentina    2020-06-04      2020-06-09  913.315190"
      ]
     },
     "execution_count": 16,
     "metadata": {},
     "output_type": "execute_result"
    }
   ],
   "source": [
    "all_data = pd.DataFrame()\n",
    "for i, abrv in enumerate(countries_abrv):\n",
    "    file = f'{dir_data}/arima_{abrv}.csv'\n",
    "    data = pd.read_csv(file, parse_dates=['forecast_date'])\n",
    "    data['country'] = countries[i]\n",
    "    data = data[(data.forecast_date >= datetime(2020,6,4)) & (data.forecast_date <= datetime(2020,7,19))]\n",
    "    all_data = pd.concat([all_data, data])\n",
    "all_data.head()"
   ]
  },
  {
   "cell_type": "code",
   "execution_count": 17,
   "metadata": {},
   "outputs": [
    {
     "data": {
      "text/html": [
       "<div>\n",
       "<style scoped>\n",
       "    .dataframe tbody tr th:only-of-type {\n",
       "        vertical-align: middle;\n",
       "    }\n",
       "\n",
       "    .dataframe tbody tr th {\n",
       "        vertical-align: top;\n",
       "    }\n",
       "\n",
       "    .dataframe thead th {\n",
       "        text-align: right;\n",
       "    }\n",
       "</style>\n",
       "<table border=\"1\" class=\"dataframe\">\n",
       "  <thead>\n",
       "    <tr style=\"text-align: right;\">\n",
       "      <th></th>\n",
       "      <th>country</th>\n",
       "      <th>forecast_date</th>\n",
       "      <th>forecasted_date</th>\n",
       "      <th>forecast</th>\n",
       "    </tr>\n",
       "  </thead>\n",
       "  <tbody>\n",
       "    <tr>\n",
       "      <th>1255</th>\n",
       "      <td>México</td>\n",
       "      <td>2020-07-19</td>\n",
       "      <td>2020-07-22</td>\n",
       "      <td>5822.317318</td>\n",
       "    </tr>\n",
       "    <tr>\n",
       "      <th>1256</th>\n",
       "      <td>México</td>\n",
       "      <td>2020-07-19</td>\n",
       "      <td>2020-07-23</td>\n",
       "      <td>5863.044633</td>\n",
       "    </tr>\n",
       "    <tr>\n",
       "      <th>1257</th>\n",
       "      <td>México</td>\n",
       "      <td>2020-07-19</td>\n",
       "      <td>2020-07-24</td>\n",
       "      <td>5901.953506</td>\n",
       "    </tr>\n",
       "    <tr>\n",
       "      <th>1258</th>\n",
       "      <td>México</td>\n",
       "      <td>2020-07-19</td>\n",
       "      <td>2020-07-25</td>\n",
       "      <td>5940.169307</td>\n",
       "    </tr>\n",
       "    <tr>\n",
       "      <th>1259</th>\n",
       "      <td>México</td>\n",
       "      <td>2020-07-19</td>\n",
       "      <td>2020-07-26</td>\n",
       "      <td>5978.579160</td>\n",
       "    </tr>\n",
       "  </tbody>\n",
       "</table>\n",
       "</div>"
      ],
      "text/plain": [
       "     country forecast_date forecasted_date     forecast\n",
       "1255  México    2020-07-19      2020-07-22  5822.317318\n",
       "1256  México    2020-07-19      2020-07-23  5863.044633\n",
       "1257  México    2020-07-19      2020-07-24  5901.953506\n",
       "1258  México    2020-07-19      2020-07-25  5940.169307\n",
       "1259  México    2020-07-19      2020-07-26  5978.579160"
      ]
     },
     "execution_count": 17,
     "metadata": {},
     "output_type": "execute_result"
    }
   ],
   "source": [
    "all_data.tail()"
   ]
  },
  {
   "cell_type": "code",
   "execution_count": 18,
   "metadata": {},
   "outputs": [],
   "source": [
    "all_data.to_csv('../../datalake/gold/covid_data/forecast/arima/arima_all_countries.csv', index=False)"
   ]
  },
  {
   "cell_type": "code",
   "execution_count": null,
   "metadata": {},
   "outputs": [],
   "source": []
  }
 ],
 "metadata": {
  "kernelspec": {
   "display_name": "Python 3",
   "language": "python",
   "name": "python3"
  },
  "language_info": {
   "codemirror_mode": {
    "name": "ipython",
    "version": 3
   },
   "file_extension": ".py",
   "mimetype": "text/x-python",
   "name": "python",
   "nbconvert_exporter": "python",
   "pygments_lexer": "ipython3",
   "version": "3.10.9"
  },
  "orig_nbformat": 4,
  "vscode": {
   "interpreter": {
    "hash": "73faed565a3fd087a4ba790022032202d38d1d35134060918681fd67d4052d26"
   }
  }
 },
 "nbformat": 4,
 "nbformat_minor": 2
}
