{
 "cells": [
  {
   "cell_type": "code",
   "execution_count": 1,
   "metadata": {},
   "outputs": [],
   "source": [
    "import pandas as pd\n",
    "import os\n",
    "import matplotlib.pyplot as plt\n",
    "import seaborn as sns\n",
    "from datetime import datetime\n",
    "from statsmodels.tsa.arima.model import ARIMA\n",
    "import warnings\n",
    "warnings.filterwarnings(\"ignore\")"
   ]
  },
  {
   "cell_type": "code",
   "execution_count": 2,
   "metadata": {},
   "outputs": [],
   "source": [
    "dir_covid_data = '../../datalake/silver/covid_data/'\n",
    "covid_file = f'{dir_covid_data}/full_grouped_filtro_1.csv'\n",
    "covid_data = pd.read_csv(covid_file)\n",
    "covid_data.drop('Unnamed: 0', axis=1, inplace=True)\n",
    "covid_data['Date'] = pd.to_datetime(covid_data['Date'])\n",
    "covid_data.set_index('Date', inplace=True)\n",
    "\n",
    "# Dados necessários para o ARIMA\n",
    "reg_data = covid_data[['Country/Region', 'New cases']].dropna() # Remoção de valores NaN"
   ]
  },
  {
   "cell_type": "code",
   "execution_count": 3,
   "metadata": {},
   "outputs": [],
   "source": [
    "reg_data_ar = reg_data[reg_data['Country/Region'] == 'Argentina']\n",
    "reg_data_ar = reg_data_ar[['New cases']]\n",
    "reg_data_ar = reg_data_ar.loc[reg_data_ar.ne(0).idxmax()[0]:]\n",
    "train_data = reg_data_ar.iloc[:103]\n",
    "test_data = reg_data_ar.iloc[103:]"
   ]
  },
  {
   "cell_type": "code",
   "execution_count": 4,
   "metadata": {},
   "outputs": [],
   "source": [
    "from sklearn.preprocessing import MinMaxScaler\n",
    "scaler = MinMaxScaler()\n",
    "scaler.fit(train_data)\n",
    "\n",
    "train_scaled = scaler.transform(train_data)\n",
    "test_scaled = scaler.transform(test_data)"
   ]
  },
  {
   "cell_type": "code",
   "execution_count": 12,
   "metadata": {},
   "outputs": [],
   "source": [
    "from keras.preprocessing.sequence import TimeseriesGenerator"
   ]
  },
  {
   "cell_type": "code",
   "execution_count": 16,
   "metadata": {},
   "outputs": [
    {
     "name": "stdout",
     "output_type": "stream",
     "text": [
      "Total number of samples in the original training data =  103\n",
      "Total number of samples in the generated data =  96\n"
     ]
    }
   ],
   "source": [
    "# Sequence size has a impact on prediction, expecialy since COVID is npredictable\n",
    "seq_size = 7 # number os steps (lookback)\n",
    "n_features = 1 # number of features. This dataset is univariate so it is 1\n",
    "train_generator = TimeseriesGenerator(train_scaled,\n",
    "                                      train_scaled,\n",
    "                                      length = seq_size,\n",
    "                                      batch_size = 1\n",
    "                                      )\n",
    "print('Total number of samples in the original training data = ', len(train_data))\n",
    "print('Total number of samples in the generated data = ', len(train_generator))\n"
   ]
  },
  {
   "cell_type": "code",
   "execution_count": 17,
   "metadata": {},
   "outputs": [],
   "source": [
    "# check data shape from generator\n",
    "x, y = train_generator[10] # check train generator\n",
    "# takes 7 days as x and 8th day as y (for seq_size=7)"
   ]
  },
  {
   "cell_type": "code",
   "execution_count": 19,
   "metadata": {},
   "outputs": [
    {
     "data": {
      "text/plain": [
       "array([[0.0202482]])"
      ]
     },
     "execution_count": 19,
     "metadata": {},
     "output_type": "execute_result"
    }
   ],
   "source": [
    "y"
   ]
  },
  {
   "cell_type": "code",
   "execution_count": 20,
   "metadata": {},
   "outputs": [],
   "source": [
    "# also generate test data\n",
    "test_generator = TimeseriesGenerator(test_scaled,\n",
    "                                     test_scaled,\n",
    "                                     length = seq_size,\n",
    "                                     batch_size = 1\n",
    "                                     )\n"
   ]
  },
  {
   "cell_type": "code",
   "execution_count": 21,
   "metadata": {},
   "outputs": [],
   "source": [
    "from keras.models import Sequential\n",
    "from keras.layers import Dense, LSTM, Dropout, Activation"
   ]
  },
  {
   "cell_type": "code",
   "execution_count": 22,
   "metadata": {},
   "outputs": [
    {
     "name": "stdout",
     "output_type": "stream",
     "text": [
      "Model: \"sequential\"\n",
      "_________________________________________________________________\n",
      " Layer (type)                Output Shape              Param #   \n",
      "=================================================================\n",
      " lstm (LSTM)                 (None, 7, 128)            66560     \n",
      "                                                                 \n",
      " lstm_1 (LSTM)               (None, 64)                49408     \n",
      "                                                                 \n",
      " dense (Dense)               (None, 32)                2080      \n",
      "                                                                 \n",
      " dense_1 (Dense)             (None, 1)                 33        \n",
      "                                                                 \n",
      "=================================================================\n",
      "Total params: 118,081\n",
      "Trainable params: 118,081\n",
      "Non-trainable params: 0\n",
      "_________________________________________________________________\n"
     ]
    }
   ],
   "source": [
    "# define model\n",
    "model = Sequential()\n",
    "model.add(LSTM(128, activation='relu', return_sequences=True, \n",
    "               input_shape=(seq_size, n_features)))\n",
    "model.add(LSTM(64, activation='relu'))\n",
    "model.add(Dense(32))\n",
    "model.add(Dense(1))\n",
    "model.compile(optimizer='adam', loss='mean_squared_error')\n",
    "model.summary()"
   ]
  },
  {
   "cell_type": "code",
   "execution_count": 25,
   "metadata": {},
   "outputs": [
    {
     "name": "stdout",
     "output_type": "stream",
     "text": [
      "Epoch 1/50\n",
      "10/10 [==============================] - 1s 60ms/step - loss: 0.0117 - val_loss: 1.1076\n",
      "Epoch 2/50\n",
      "10/10 [==============================] - 1s 50ms/step - loss: 0.0151 - val_loss: 1.4673\n",
      "Epoch 3/50\n",
      "10/10 [==============================] - 0s 44ms/step - loss: 0.0013 - val_loss: 2.8383\n",
      "Epoch 4/50\n",
      "10/10 [==============================] - 0s 48ms/step - loss: 0.0024 - val_loss: 4.8032\n",
      "Epoch 5/50\n",
      "10/10 [==============================] - 0s 34ms/step - loss: 0.0067 - val_loss: 4.0643\n",
      "Epoch 6/50\n",
      "10/10 [==============================] - 0s 24ms/step - loss: 3.9463e-04 - val_loss: 3.0090\n",
      "Epoch 7/50\n",
      "10/10 [==============================] - 0s 24ms/step - loss: 0.0045 - val_loss: 2.5913\n",
      "Epoch 8/50\n",
      "10/10 [==============================] - 0s 25ms/step - loss: 0.0023 - val_loss: 2.5385\n",
      "Epoch 9/50\n",
      "10/10 [==============================] - 0s 25ms/step - loss: 0.0059 - val_loss: 2.0867\n",
      "Epoch 10/50\n",
      "10/10 [==============================] - 0s 29ms/step - loss: 0.0038 - val_loss: 1.0492\n",
      "Epoch 11/50\n",
      "10/10 [==============================] - 0s 44ms/step - loss: 0.0019 - val_loss: 1.2526\n",
      "Epoch 12/50\n",
      "10/10 [==============================] - 0s 35ms/step - loss: 0.0090 - val_loss: 3.5699\n",
      "Epoch 13/50\n",
      "10/10 [==============================] - 0s 45ms/step - loss: 0.0060 - val_loss: 8.9611\n",
      "Epoch 14/50\n",
      "10/10 [==============================] - 0s 48ms/step - loss: 0.0033 - val_loss: 6.8474\n",
      "Epoch 15/50\n",
      "10/10 [==============================] - 0s 45ms/step - loss: 0.0058 - val_loss: 5.1850\n",
      "Epoch 16/50\n",
      "10/10 [==============================] - 0s 32ms/step - loss: 0.0031 - val_loss: 4.8250\n",
      "Epoch 17/50\n",
      "10/10 [==============================] - 0s 34ms/step - loss: 0.0027 - val_loss: 4.6434\n",
      "Epoch 18/50\n",
      "10/10 [==============================] - 0s 45ms/step - loss: 0.0052 - val_loss: 4.4848\n",
      "Epoch 19/50\n",
      "10/10 [==============================] - 0s 29ms/step - loss: 0.0029 - val_loss: 4.1369\n",
      "Epoch 20/50\n",
      "10/10 [==============================] - 0s 31ms/step - loss: 0.0044 - val_loss: 5.2779\n",
      "Epoch 21/50\n",
      "10/10 [==============================] - 0s 42ms/step - loss: 0.0103 - val_loss: 8.0680\n",
      "Epoch 22/50\n",
      "10/10 [==============================] - 0s 46ms/step - loss: 0.0069 - val_loss: 30.2555\n",
      "Epoch 23/50\n",
      "10/10 [==============================] - 0s 36ms/step - loss: 0.0124 - val_loss: 11.0363\n",
      "Epoch 24/50\n",
      "10/10 [==============================] - 0s 50ms/step - loss: 0.0109 - val_loss: 4.0627\n",
      "Epoch 25/50\n",
      "10/10 [==============================] - 0s 44ms/step - loss: 0.0034 - val_loss: 8.1655\n",
      "Epoch 26/50\n",
      "10/10 [==============================] - 0s 36ms/step - loss: 0.0031 - val_loss: 5.9867\n",
      "Epoch 27/50\n",
      "10/10 [==============================] - 0s 39ms/step - loss: 0.0051 - val_loss: 6.9168\n",
      "Epoch 28/50\n",
      "10/10 [==============================] - 0s 43ms/step - loss: 8.0251e-04 - val_loss: 5.7258\n",
      "Epoch 29/50\n",
      "10/10 [==============================] - 0s 41ms/step - loss: 0.0030 - val_loss: 4.9001\n",
      "Epoch 30/50\n",
      "10/10 [==============================] - 0s 48ms/step - loss: 0.0067 - val_loss: 14.7770\n",
      "Epoch 31/50\n",
      "10/10 [==============================] - 0s 47ms/step - loss: 0.0016 - val_loss: 12.9669\n",
      "Epoch 32/50\n",
      "10/10 [==============================] - 0s 46ms/step - loss: 0.0089 - val_loss: 10.5678\n",
      "Epoch 33/50\n",
      "10/10 [==============================] - 0s 48ms/step - loss: 0.0062 - val_loss: 14.0920\n",
      "Epoch 34/50\n",
      "10/10 [==============================] - 0s 40ms/step - loss: 0.0065 - val_loss: 53.7709\n",
      "Epoch 35/50\n",
      "10/10 [==============================] - 0s 47ms/step - loss: 0.0089 - val_loss: 56.7512\n",
      "Epoch 36/50\n",
      "10/10 [==============================] - 0s 40ms/step - loss: 0.0044 - val_loss: 23.1588\n",
      "Epoch 37/50\n",
      "10/10 [==============================] - 0s 43ms/step - loss: 0.0024 - val_loss: 18.3914\n",
      "Epoch 38/50\n",
      "10/10 [==============================] - 0s 48ms/step - loss: 0.0083 - val_loss: 25.4142\n",
      "Epoch 39/50\n",
      "10/10 [==============================] - 0s 45ms/step - loss: 0.0073 - val_loss: 16.4267\n",
      "Epoch 40/50\n",
      "10/10 [==============================] - 0s 44ms/step - loss: 0.0061 - val_loss: 24.7665\n",
      "Epoch 41/50\n",
      "10/10 [==============================] - 0s 40ms/step - loss: 0.0048 - val_loss: 24.1678\n",
      "Epoch 42/50\n",
      "10/10 [==============================] - 0s 43ms/step - loss: 0.0048 - val_loss: 38.7240\n",
      "Epoch 43/50\n",
      "10/10 [==============================] - 0s 45ms/step - loss: 0.0089 - val_loss: 16.9024\n",
      "Epoch 44/50\n",
      "10/10 [==============================] - 1s 52ms/step - loss: 0.0139 - val_loss: 9.5112\n",
      "Epoch 45/50\n",
      "10/10 [==============================] - 0s 37ms/step - loss: 0.0066 - val_loss: 29.8052\n",
      "Epoch 46/50\n",
      "10/10 [==============================] - 0s 36ms/step - loss: 0.0043 - val_loss: 23.8715\n",
      "Epoch 47/50\n",
      "10/10 [==============================] - 0s 43ms/step - loss: 0.0028 - val_loss: 14.4487\n",
      "Epoch 48/50\n",
      "10/10 [==============================] - 0s 44ms/step - loss: 0.0032 - val_loss: 13.3083\n",
      "Epoch 49/50\n",
      "10/10 [==============================] - 0s 48ms/step - loss: 0.0020 - val_loss: 17.7946\n",
      "Epoch 50/50\n",
      "10/10 [==============================] - 0s 40ms/step - loss: 0.0041 - val_loss: 20.0393\n"
     ]
    }
   ],
   "source": [
    "history = model.fit_generator(train_generator,\n",
    "                              validation_data=test_generator,\n",
    "                              epochs=50, steps_per_epoch=10)\n"
   ]
  },
  {
   "cell_type": "code",
   "execution_count": 26,
   "metadata": {},
   "outputs": [
    {
     "data": {
      "image/png": "[encoded data removed]",
      "text/plain": [
       "<Figure size 640x480 with 1 Axes>"
      ]
     },
     "metadata": {},
     "output_type": "display_data"
    }
   ],
   "source": [
    "loss = history.history['loss']\n",
    "val_loss = history.history['val_loss']\n",
    "epochs = range(1, len(loss) + 1)\n",
    "plt.plot(epochs, loss, 'y', label='training_loss')\n",
    "plt.plot(epochs, val_loss, 'r', label='validation_loss')\n",
    "plt.title('Training and validation loss')\n",
    "plt.xlabel('Epochs')\n",
    "plt.ylabel('Loss')\n",
    "plt.legend()\n",
    "plt.show()"
   ]
  },
  {
   "cell_type": "code",
   "execution_count": 50,
   "metadata": {},
   "outputs": [],
   "source": [
    "prediction = []\n",
    "current_batch = train_scaled[-seq_size:]\n",
    "current_batch = current_batch.reshape(1, seq_size, n_features)"
   ]
  },
  {
   "cell_type": "code",
   "execution_count": null,
   "metadata": {},
   "outputs": [],
   "source": [
    "import numpy as np\n",
    "\n",
    "def predict(model, current_batch):\n",
    "    return model.predict(current_batch)[0]\n",
    "\n",
    "# Vectorize the prediction function using NumPy's \"vectorize\" function\n",
    "vectorized_predict = np.vectorize(predict)\n",
    "\n",
    "future = 7\n",
    "\n",
    "# Use NumPy's \"arange\" function to create an array of indices\n",
    "indices = np.arange(len(test_data) + future)\n",
    "\n",
    "# Use NumPy's \"apply_along_axis\" function to apply the prediction function to each index in the array\n",
    "prediction = np.apply_along_axis(vectorized_predict, 0, model, current_batch)\n",
    "\n",
    "# Use NumPy's \"roll\" function to shift the elements of the current batch array\n",
    "current_batch = np.roll(current_batch, shift=-1, axis=1)\n",
    "current_batch[:, -1, :] = prediction\n"
   ]
  },
  {
   "cell_type": "code",
   "execution_count": 51,
   "metadata": {},
   "outputs": [
    {
     "name": "stdout",
     "output_type": "stream",
     "text": [
      "1/1 [==============================] - 0s 63ms/step\n",
      "1/1 [==============================] - 0s 94ms/step\n",
      "1/1 [==============================] - 0s 101ms/step\n",
      "1/1 [==============================] - 0s 54ms/step\n",
      "1/1 [==============================] - 0s 77ms/step\n",
      "1/1 [==============================] - 0s 62ms/step\n",
      "1/1 [==============================] - 0s 70ms/step\n",
      "1/1 [==============================] - 0s 46ms/step\n",
      "1/1 [==============================] - 0s 48ms/step\n",
      "1/1 [==============================] - 0s 48ms/step\n",
      "1/1 [==============================] - 0s 43ms/step\n",
      "1/1 [==============================] - 0s 48ms/step\n",
      "1/1 [==============================] - 0s 48ms/step\n",
      "1/1 [==============================] - 0s 38ms/step\n",
      "1/1 [==============================] - 0s 40ms/step\n",
      "1/1 [==============================] - 0s 41ms/step\n",
      "1/1 [==============================] - 0s 40ms/step\n",
      "1/1 [==============================] - 0s 41ms/step\n",
      "1/1 [==============================] - 0s 35ms/step\n",
      "1/1 [==============================] - 0s 46ms/step\n",
      "1/1 [==============================] - 0s 43ms/step\n",
      "1/1 [==============================] - 0s 52ms/step\n",
      "1/1 [==============================] - 0s 41ms/step\n",
      "1/1 [==============================] - 0s 38ms/step\n",
      "1/1 [==============================] - 0s 67ms/step\n",
      "1/1 [==============================] - 0s 74ms/step\n",
      "1/1 [==============================] - 0s 73ms/step\n",
      "1/1 [==============================] - 0s 70ms/step\n",
      "1/1 [==============================] - 0s 55ms/step\n",
      "1/1 [==============================] - 0s 56ms/step\n",
      "1/1 [==============================] - 0s 39ms/step\n",
      "1/1 [==============================] - 0s 53ms/step\n",
      "1/1 [==============================] - 0s 58ms/step\n",
      "1/1 [==============================] - 0s 50ms/step\n",
      "1/1 [==============================] - 0s 60ms/step\n",
      "1/1 [==============================] - 0s 70ms/step\n",
      "1/1 [==============================] - 0s 79ms/step\n",
      "1/1 [==============================] - 0s 75ms/step\n",
      "1/1 [==============================] - 0s 68ms/step\n",
      "1/1 [==============================] - 0s 53ms/step\n",
      "1/1 [==============================] - 0s 82ms/step\n",
      "1/1 [==============================] - 0s 73ms/step\n",
      "1/1 [==============================] - 0s 63ms/step\n",
      "1/1 [==============================] - 0s 56ms/step\n",
      "1/1 [==============================] - 0s 37ms/step\n",
      "1/1 [==============================] - 0s 39ms/step\n",
      "1/1 [==============================] - 0s 40ms/step\n",
      "1/1 [==============================] - 0s 35ms/step\n",
      "1/1 [==============================] - 0s 38ms/step\n",
      "1/1 [==============================] - 0s 48ms/step\n",
      "1/1 [==============================] - 0s 42ms/step\n"
     ]
    }
   ],
   "source": [
    "import numpy as np\n",
    "future = 7\n",
    "for i in range(len(test_data) + future):\n",
    "    current_pred = model.predict(current_batch)[0]\n",
    "    prediction.append(current_pred)\n",
    "    current_batch = np.append(current_batch[:, 1:, :],\n",
    "                              [[current_pred]],\n",
    "                              axis=1)\n"
   ]
  },
  {
   "cell_type": "code",
   "execution_count": 54,
   "metadata": {},
   "outputs": [],
   "source": [
    "rescaled_prediction = scaler.inverse_transform(prediction)\n"
   ]
  },
  {
   "cell_type": "code",
   "execution_count": 55,
   "metadata": {},
   "outputs": [],
   "source": [
    "time_series_array = test_data.index"
   ]
  },
  {
   "cell_type": "code",
   "execution_count": 56,
   "metadata": {},
   "outputs": [],
   "source": [
    "for k in range(0, future):\n",
    "    time_series_array = time_series_array.append(time_series_array[-1:]) + pd.DateOffset(1)"
   ]
  },
  {
   "cell_type": "code",
   "execution_count": 57,
   "metadata": {},
   "outputs": [],
   "source": [
    "df_forecast = pd.DataFrame(columns=['actual_confirmed', 'predicted'],\n",
    "                           index=time_series_array)"
   ]
  },
  {
   "cell_type": "code",
   "execution_count": 59,
   "metadata": {},
   "outputs": [
    {
     "data": {
      "text/html": [
       "<div>\n",
       "<style scoped>\n",
       "    .dataframe tbody tr th:only-of-type {\n",
       "        vertical-align: middle;\n",
       "    }\n",
       "\n",
       "    .dataframe tbody tr th {\n",
       "        vertical-align: top;\n",
       "    }\n",
       "\n",
       "    .dataframe thead th {\n",
       "        text-align: right;\n",
       "    }\n",
       "</style>\n",
       "<table border=\"1\" class=\"dataframe\">\n",
       "  <thead>\n",
       "    <tr style=\"text-align: right;\">\n",
       "      <th></th>\n",
       "      <th>New cases</th>\n",
       "    </tr>\n",
       "    <tr>\n",
       "      <th>Date</th>\n",
       "      <th></th>\n",
       "    </tr>\n",
       "  </thead>\n",
       "  <tbody>\n",
       "    <tr>\n",
       "      <th>2020-06-14</th>\n",
       "      <td>1282</td>\n",
       "    </tr>\n",
       "    <tr>\n",
       "      <th>2020-06-15</th>\n",
       "      <td>1208</td>\n",
       "    </tr>\n",
       "    <tr>\n",
       "      <th>2020-06-16</th>\n",
       "      <td>1374</td>\n",
       "    </tr>\n",
       "    <tr>\n",
       "      <th>2020-06-17</th>\n",
       "      <td>1393</td>\n",
       "    </tr>\n",
       "    <tr>\n",
       "      <th>2020-06-18</th>\n",
       "      <td>1958</td>\n",
       "    </tr>\n",
       "  </tbody>\n",
       "</table>\n",
       "</div>"
      ],
      "text/plain": [
       "            New cases\n",
       "Date                 \n",
       "2020-06-14       1282\n",
       "2020-06-15       1208\n",
       "2020-06-16       1374\n",
       "2020-06-17       1393\n",
       "2020-06-18       1958"
      ]
     },
     "execution_count": 59,
     "metadata": {},
     "output_type": "execute_result"
    }
   ],
   "source": [
    "test_data.head()"
   ]
  },
  {
   "cell_type": "code",
   "execution_count": 60,
   "metadata": {},
   "outputs": [],
   "source": [
    "df_forecast.loc[:, 'predicted'] = rescaled_prediction[:, 0]\n",
    "df_forecast.loc[:, 'actual_confirmed'] = test_data['New cases']\n"
   ]
  },
  {
   "cell_type": "code",
   "execution_count": 61,
   "metadata": {},
   "outputs": [
    {
     "data": {
      "text/plain": [
       "<AxesSubplot:title={'center':'prediction for next 7 days'}, xlabel='Date'>"
      ]
     },
     "execution_count": 61,
     "metadata": {},
     "output_type": "execute_result"
    },
    {
     "data": {
      "image/png": "[encoded data removed]",
      "text/plain": [
       "<Figure size 640x480 with 1 Axes>"
      ]
     },
     "metadata": {},
     "output_type": "display_data"
    }
   ],
   "source": [
    "df_forecast.plot(title='prediction for next 7 days')"
   ]
  },
  {
   "cell_type": "code",
   "execution_count": null,
   "metadata": {},
   "outputs": [],
   "source": []
  }
 ],
 "metadata": {
  "kernelspec": {
   "display_name": "Python 3",
   "language": "python",
   "name": "python3"
  },
  "language_info": {
   "codemirror_mode": {
    "name": "ipython",
    "version": 3
   },
   "file_extension": ".py",
   "mimetype": "text/x-python",
   "name": "python",
   "nbconvert_exporter": "python",
   "pygments_lexer": "ipython3",
   "version": "3.10.9 (tags/v3.10.9:1dd9be6, Dec  6 2022, 20:01:21) [MSC v.1934 64 bit (AMD64)]"
  },
  "orig_nbformat": 4,
  "vscode": {
   "interpreter": {
    "hash": "73faed565a3fd087a4ba790022032202d38d1d35134060918681fd67d4052d26"
   }
  }
 },
 "nbformat": 4,
 "nbformat_minor": 2
}
