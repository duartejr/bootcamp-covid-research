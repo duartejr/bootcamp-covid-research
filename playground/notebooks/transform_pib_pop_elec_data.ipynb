{
 "cells": [
  {
   "cell_type": "code",
   "execution_count": 1,
   "metadata": {},
   "outputs": [],
   "source": [
    "import pandas as pd"
   ]
  },
  {
   "cell_type": "code",
   "execution_count": 2,
   "metadata": {},
   "outputs": [],
   "source": [
    "pib_file = '../../datalake/bronze/wikipedia/pib_paises_onu.csv'\n",
    "pop_file = '../../datalake/bronze/wikipedia/pop_paises.csv'\n",
    "ele_file = '../../datalake/bronze/ember/monthly_full_release_long_format.csv'"
   ]
  },
  {
   "cell_type": "code",
   "execution_count": 4,
   "metadata": {},
   "outputs": [
    {
     "name": "stdout",
     "output_type": "stream",
     "text": [
      "<class 'pandas.core.frame.DataFrame'>\n",
      "RangeIndex: 216 entries, 0 to 215\n",
      "Data columns (total 3 columns):\n",
      " #   Column           Non-Null Count  Dtype  \n",
      "---  ------           --------------  -----  \n",
      " 0   Posição          216 non-null    object \n",
      " 1   País/Território  216 non-null    object \n",
      " 2   US$              216 non-null    float64\n",
      "dtypes: float64(1), object(2)\n",
      "memory usage: 5.2+ KB\n"
     ]
    }
   ],
   "source": [
    "pip = pd.read_csv(pib_file)\n",
    "pip.info()"
   ]
  },
  {
   "cell_type": "code",
   "execution_count": null,
   "metadata": {},
   "outputs": [],
   "source": []
  }
 ],
 "metadata": {
  "kernelspec": {
   "display_name": "Python 3.10.8 64-bit (microsoft store)",
   "language": "python",
   "name": "python3"
  },
  "language_info": {
   "codemirror_mode": {
    "name": "ipython",
    "version": 3
   },
   "file_extension": ".py",
   "mimetype": "text/x-python",
   "name": "python",
   "nbconvert_exporter": "python",
   "pygments_lexer": "ipython3",
   "version": "3.10.8"
  },
  "orig_nbformat": 4,
  "vscode": {
   "interpreter": {
    "hash": "73faed565a3fd087a4ba790022032202d38d1d35134060918681fd67d4052d26"
   }
  }
 },
 "nbformat": 4,
 "nbformat_minor": 2
}
